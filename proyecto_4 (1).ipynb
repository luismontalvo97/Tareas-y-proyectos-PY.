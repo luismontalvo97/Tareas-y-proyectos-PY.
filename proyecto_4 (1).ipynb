{
 "cells": [
  {
   "cell_type": "markdown",
   "metadata": {},
   "source": [
    "# Proyecto del tema\n",
    "\n",
    "> El programa le va a preguntar al usuario su nombre, y luego le va a decir algo como “Buenas, Luís, he pensado un número entre el 1 y el 100, y tienes solo 6 intentos para adivinar cuál crees que es el número”.\n",
    "\n",
    "> Entonces, en cada intento, el jugador dirá un número y el programa puede responder cuatro cosas distintas:\n",
    "\n",
    "* Si el número que dijo el usuario es menor a 1 o superior a 100, le va a decir que ha elegido un número que no está permitido.\n",
    "* Si el número que ha elegido el usuario es menor al que ha pensado el programa, le va a decir que su respuesta es incorrecta, y que ha elegido un número menor al número secreto.\n",
    "* Si el usuario eligió un número mayor al número secreto, también se lo hará saber de la misma manera.\n",
    "* Y si el usuario acertó el número secreto, se le va a informar que ha ganado y cuántos intentos le ha costado hacerlo.\n",
    "\n",
    "> Si el usuario no ha acertado en este primer intento, se le va a volver a pedir que elija otro número. Así, hasta que gane acertando o hasta que pierda cuando se quede sin intentos.\n",
    "\n"
   ]
  },
  {
   "cell_type": "code",
   "execution_count": 1,
   "metadata": {},
   "outputs": [
    {
     "name": "stdout",
     "output_type": "stream",
     "text": [
      "Hola, he pensado un numero entre 1 y 100, debes adivinarlo en un maximo de 6 intentos:\n"
     ]
    },
    {
     "ename": "ValueError",
     "evalue": "invalid literal for int() with base 10: ''",
     "output_type": "error",
     "traceback": [
      "\u001b[1;31m---------------------------------------------------------------------------\u001b[0m",
      "\u001b[1;31mValueError\u001b[0m                                Traceback (most recent call last)",
      "\u001b[1;32mc:\\Users\\Alberto\\Downloads\\proyecto_4 (1).ipynb Cell 2\u001b[0m line \u001b[0;36m1\n\u001b[0;32m     <a href='vscode-notebook-cell:/c%3A/Users/Alberto/Downloads/proyecto_4%20%281%29.ipynb#W1sZmlsZQ%3D%3D?line=13'>14</a>\u001b[0m \u001b[39m# 4. Se da 6 intentos al usuario de uno en uno y se imprimen las consecuencias, se corta si acierta o agota los intentos:\u001b[39;00m\n\u001b[0;32m     <a href='vscode-notebook-cell:/c%3A/Users/Alberto/Downloads/proyecto_4%20%281%29.ipynb#W1sZmlsZQ%3D%3D?line=15'>16</a>\u001b[0m \u001b[39mfor\u001b[39;00m intento \u001b[39min\u001b[39;00m \u001b[39mrange\u001b[39m(\u001b[39m6\u001b[39m):\n\u001b[1;32m---> <a href='vscode-notebook-cell:/c%3A/Users/Alberto/Downloads/proyecto_4%20%281%29.ipynb#W1sZmlsZQ%3D%3D?line=16'>17</a>\u001b[0m   numero \u001b[39m=\u001b[39m \u001b[39mint\u001b[39;49m(\u001b[39minput\u001b[39;49m(\u001b[39m\"\u001b[39;49m\u001b[39mIntento \u001b[39;49m\u001b[39m\"\u001b[39;49m \u001b[39m+\u001b[39;49m \u001b[39mstr\u001b[39;49m(intento \u001b[39m+\u001b[39;49m \u001b[39m1\u001b[39;49m) \u001b[39m+\u001b[39;49m \u001b[39m\"\u001b[39;49m\u001b[39m de 6. Escribe un número: \u001b[39;49m\u001b[39m\"\u001b[39;49m))\n\u001b[0;32m     <a href='vscode-notebook-cell:/c%3A/Users/Alberto/Downloads/proyecto_4%20%281%29.ipynb#W1sZmlsZQ%3D%3D?line=18'>19</a>\u001b[0m   \u001b[39mif\u001b[39;00m numero \u001b[39m<\u001b[39m \u001b[39m1\u001b[39m \u001b[39mor\u001b[39;00m numero \u001b[39m>\u001b[39m \u001b[39m100\u001b[39m:\n\u001b[0;32m     <a href='vscode-notebook-cell:/c%3A/Users/Alberto/Downloads/proyecto_4%20%281%29.ipynb#W1sZmlsZQ%3D%3D?line=19'>20</a>\u001b[0m     \u001b[39mprint\u001b[39m(\u001b[39m\"\u001b[39m\u001b[39mNúmero no permitido.\u001b[39m\u001b[39m\"\u001b[39m)\n",
      "\u001b[1;31mValueError\u001b[0m: invalid literal for int() with base 10: ''"
     ]
    }
   ],
   "source": [
    "# 1. El usuario escribe su nombre:\n",
    "\n",
    "nombre = input(\"Escriba su nombre: \")\n",
    "\n",
    "# 2 . Se explica el juego al usuario:\n",
    "\n",
    "print(\"Hola, he pensado un numero entre 1 y 100, debes adivinarlo en un maximo de 6 intentos:\")\n",
    "\n",
    "# 3. Se genera número aleatorio:\n",
    "\n",
    "from random import randint\n",
    "numero_pensado = randint(1, 100)\n",
    "\n",
    "# 4. Se da 6 intentos al usuario de uno en uno y se imprimen las consecuencias, se corta si acierta o agota los intentos:\n",
    "\n",
    "for intento in range(6):\n",
    "  numero = int(input(\"Intento \" + str(intento + 1) + \" de 6. Escribe un número: \"))\n",
    "  \n",
    "  if numero < 1 or numero > 100:\n",
    "    print(\"Número no permitido.\")\n",
    "    \n",
    "  elif numero < numero_pensado:\n",
    "    print(\"Número incorrecto, prueba uno mayor.\")\n",
    "    \n",
    "  elif numero > numero_pensado:\n",
    "    print(\"Número incorrecto, prueba uno menor.\")\n",
    "    \n",
    "  elif numero == numero_pensado:\n",
    "    print(\"Acertaste.\")\n",
    "    break\n",
    "  \n",
    "else:\n",
    "    print(\"Te quedaste sin intentos.\")"
   ]
  }
 ],
 "metadata": {
  "kernelspec": {
   "display_name": "Python 3",
   "language": "python",
   "name": "python3"
  },
  "language_info": {
   "codemirror_mode": {
    "name": "ipython",
    "version": 3
   },
   "file_extension": ".py",
   "mimetype": "text/x-python",
   "name": "python",
   "nbconvert_exporter": "python",
   "pygments_lexer": "ipython3",
   "version": "3.12.0"
  }
 },
 "nbformat": 4,
 "nbformat_minor": 2
}
