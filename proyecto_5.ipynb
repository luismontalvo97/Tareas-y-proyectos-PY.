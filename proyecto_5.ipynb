{
 "cells": [
  {
   "cell_type": "markdown",
   "metadata": {},
   "source": [
    "# Proyecto del Tema"
   ]
  },
  {
   "cell_type": "markdown",
   "metadata": {},
   "source": [
    "> El ahorcado. El juego es muy sencillo y popular, pero por si acaso te lo explico rápidamente. El programa va a elegir una palabra secreta y le va a mostrar al jugador solamente una serie de guiones que representa la cantidad de letras que tiene la palabra. El jugador en cada turno deberá elegir una letra y si la letra se encuentra en la palabra oculta, el sistema le va a mostrar en qué lugares se encuentra. Pero si el jugador dice una letra que no se encuentra en la palabra oculta, pierde una vida.\n",
    "\n",
    "> En el juego real del ahorcado, cada vez que perdemos una vida, se va completando el dibujo del ahorcado miembro por miembro. Pero en nuestro caso, como aún no tenemos elementos gráficos, simplemente le vamos a decir que tiene seis vidas y se las iremos descontando de una en una, cada vez que el jugador elija una letra incorrecta.\n",
    "\n",
    "> Si se agotan las vidas antes de adivinar la palabra, el jugador pierde. Pero si adivina la palabra completa antes de perder todas las vidas, el jugador gana. Parece sencillo, pero ¿cómo diseñamos todo este código? Bueno, aquí van algunas ayudas: \n",
    "\n",
    "* Primero vas a crear un código que importe el método choice, ya que lo vas a necesitar para que el sistema pueda elegir una palabra al azar dentro de una lista de palabras que también vas a crear al principio.\n",
    "* Después de eso, vas a crear tantas funciones como creas necesarias para que el programa haga cosas como pedirle al usuario que elija una letra, para corroborar si lo que el usuario ha ingresado es una letra válida, para comprobar si la letra ingresada se encuentra en la palabra o no, para verificar si ha ganado o no, etc.\n",
    "* Recuerda escribir primero las funciones y luego el código que las implementa ordenadamente.\n"
   ]
  },
  {
   "cell_type": "code",
   "execution_count": 10,
   "metadata": {},
   "outputs": [],
   "source": [
    "#Importamos choice de ramdom\n",
    "from random import choice\n",
    "\n",
    "# Definimos las posibles palabras secretas, el numero de intentos y las frases\n",
    "# iniciales, tambien empieza una lista vacia donde se iran sumando las letras adivinadas.\n",
    "\n",
    "def juego():\n",
    "    lista_palabras = [\"Perro\",\"Gato\",\"Conejo\",\"Pez\"]\n",
    "    palabra_secreta = random.choice(lista_palabras)\n",
    "    letras_adivinadas = []\n",
    "    intentos_maximos = 6\n",
    "    intentos = 0\n",
    "    \n",
    "    print(\"¡Empieza el juego del ahorcado!\")\n",
    "    print(f\"La palabra secreta tiene {len(palabra_secreta)} letras.\")\n",
    "\n",
    "# Bucle while mientras queden intentos\n",
    "\n",
    "    while True:\n",
    "        letra = input(\"Elige una letra: \").upper()\n",
    "\n",
    "        if letra in letras_adivinadas:\n",
    "            print(\"Ya has adivinado esa letra.\")\n",
    "        elif letra in palabra_secreta:\n",
    "            letras_adivinadas.append(letra)\n",
    "            print(\"¡Acertaste!\")\n",
    "        else:\n",
    "            intentos += 1\n",
    "            print(f\"Letra incorrecta. Te quedan {(intentos_maximos - intentos)} intentos.\")\n",
    "\n",
    "        palabra_mostrada = \"\"\n",
    "        for letra_palabra in palabra_secreta:\n",
    "            if letra_palabra in letras_adivinadas:\n",
    "                palabra_mostrada += letra_palabra + \" \"\n",
    "            else:\n",
    "                palabra_mostrada += \"_ \"\n",
    "        print(palabra_mostrada)\n",
    "\n",
    "        if all(letra in letras_adivinadas for letra in palabra_secreta):\n",
    "            print(f\"¡Felicidades! Has adivinado la palabra: '{palabra_secreta}'.\")\n",
    "            break\n",
    "        elif intentos == intentos_maximos:\n",
    "            print(f\"Te has quedado sin intentos. La palabra era '{palabra_secreta}'.\")\n"
   ]
  }
 ],
 "metadata": {
  "kernelspec": {
   "display_name": "Python 3",
   "language": "python",
   "name": "python3"
  },
  "language_info": {
   "codemirror_mode": {
    "name": "ipython",
    "version": 3
   },
   "file_extension": ".py",
   "mimetype": "text/x-python",
   "name": "python",
   "nbconvert_exporter": "python",
   "pygments_lexer": "ipython3",
   "version": "3.12.0"
  }
 },
 "nbformat": 4,
 "nbformat_minor": 2
}
